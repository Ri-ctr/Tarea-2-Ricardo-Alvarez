{
 "cells": [
  {
   "cell_type": "markdown",
   "metadata": {},
   "source": [
    "# Tarea Probabilidad"
   ]
  },
  {
   "cell_type": "markdown",
   "metadata": {},
   "source": [
    "1. Alice tiene 2 hijos y uno de ellos es niña. ¿Cuál es la probabilidad dque el otro hijo también sea niña?"
   ]
  },
  {
   "cell_type": "code",
   "execution_count": 2,
   "metadata": {},
   "outputs": [
    {
     "name": "stdout",
     "output_type": "stream",
     "text": [
      "la probabilidad de que sea niña es 0.3333333333333333\n"
     ]
    }
   ],
   "source": [
    "# El espacio muestral del problema es que puede tener las combinaciones:\n",
    "# siendo A niña y O niño:\n",
    "# (A,A) (A,O) (O,A) (eliminamos (O,O) porque no es posible)\n",
    "# de aqui vemos que los casos favorables son 1 de 3, por lo que la probabilidad de que sea niña es 1/3\n",
    "print ('la probabilidad de que sea niña es', 1/3)\n"
   ]
  },
  {
   "cell_type": "markdown",
   "metadata": {},
   "source": [
    "2. Un dado justo se tira 2 veces. ¿Cuál es la probabilidad de obtener un 2 en la primera tirada y no tener un 4 en la segunda tirada?"
   ]
  },
  {
   "cell_type": "code",
   "execution_count": 6,
   "metadata": {},
   "outputs": [
    {
     "name": "stdout",
     "output_type": "stream",
     "text": [
      "la probabilidad de obtener un 2 y no obtener un 4 es 0.1388888888888889\n"
     ]
    }
   ],
   "source": [
    "# La probabilidad de obtener un 2 en un dado justo es de 1/6\n",
    "# Y la probabilidad de no obtener un 4 en un dado justo es de 1 - 1/6 = 5/6\n",
    "# Por lo tanto la probabilidad de obtener un 2 y no obtener un 4 es de 1/6 * 5/6 = 5/36\n",
    "print ('la probabilidad de obtener un 2 y no obtener un 4 es', 5/36)"
   ]
  },
  {
   "cell_type": "markdown",
   "metadata": {},
   "source": [
    "3. Consideremos un dado de 4 lados (Tetraedro) que se tira 2 veces. ¿Cual es la probabilidad de que el número en la primera tirada se estríctamente mas gande que el número que sale en la segunda tirada? "
   ]
  },
  {
   "cell_type": "code",
   "execution_count": 7,
   "metadata": {},
   "outputs": [
    {
     "name": "stdout",
     "output_type": "stream",
     "text": [
      "la probabilidad de que el número en la primera tirada sea mayor que el número en la segunda tirada es 0.375\n"
     ]
    }
   ],
   "source": [
    "# Hay que ver cuántos casos son favorables y cuántos casos son posibles\n",
    "# Los casos en los que el número en la primera tirada es mayor que el número en la segunda tirada, son:\n",
    "# (2,1) (3,1) (3,2) (4,1) (4,2) (4,3)\n",
    "# Por lo tanto hay 6 casos favorables\n",
    "# Y los casos posibles son 4*4 = 16\n",
    "# Por lo tanto la probabilidad de que el número en la primera tirada sea mayor que el número en la segunda tirada es 6/16 = 3/8\n",
    "print ('la probabilidad de que el número en la primera tirada sea estrictamente mayor que el número en la segunda tirada es', 3/8)"
   ]
  },
  {
   "cell_type": "markdown",
   "metadata": {},
   "source": [
    "4. Anita elige aleatoreamente 4 cartas de un mazo de 52 cartas y las regresa al mazo. Luego Babita elige 8 cartas del mazo. ¿Cuál es la probabilidad de que las 4 cartas que eligió Anita se encontraran en la 8 cartas que eligió Babita?"
   ]
  },
  {
   "cell_type": "code",
   "execution_count": 10,
   "metadata": {},
   "outputs": [
    {
     "name": "stdout",
     "output_type": "stream",
     "text": [
      "la probabilidad de que en las 8 cartas de Babita estén las 4 cartas de Anita es 0.0002585649644473174\n"
     ]
    }
   ],
   "source": [
    "import math\n",
    "# El número de casos posibles está dado por el número de combinaciones de 8 elementos tomados de un grupo de 52\n",
    "# que está dado por la fórmula C(52,8) = 52! / (8! * (52-8)!)\n",
    "casos_8_52 = math.comb(52, 8)\n",
    "# El número de casos favorables está dado por el número de combinaciones de 4 elementos tomados de un grupo de 48\n",
    "# que está dado por la fórmula C(48,4) = 48! / (4! * (48-4)!)\n",
    "casos_4_48 = math.comb(48, 4)\n",
    "# Por lo tanto la probabilidad de que en las 8 cartas de Babita estén las 4 cartas de Anita es\n",
    "# C(48,4) / C(52,8)\n",
    "print ('la probabilidad de que en las 8 cartas de Babita estén las 4 cartas de Anita es', casos_4_48 / casos_8_52)\n"
   ]
  },
  {
   "cell_type": "markdown",
   "metadata": {},
   "source": [
    "5. En un juego de cartas, a un jugador se le reparten 13 cartas de un mazo de 52 cartas. ¿Cuál es la probabilidad de que la carta 13 que se te reparta sea un rey si no te salió un rey en las primeras 12 cartas?. (Hay 4 reyes en el mazo)"
   ]
  },
  {
   "cell_type": "code",
   "execution_count": 11,
   "metadata": {},
   "outputs": [
    {
     "name": "stdout",
     "output_type": "stream",
     "text": [
      "la probabilidad de que salga rey es 0.1\n"
     ]
    }
   ],
   "source": [
    "# Hay 4 casos favorables (sale rey), y 52-12 = 40 casos posibles (no sale rey)\n",
    "# Entonces la probabilidad de que salga rey es 4/40 = 1/10\n",
    "print ('la probabilidad de que salga rey es', 1/10)"
   ]
  },
  {
   "cell_type": "markdown",
   "metadata": {},
   "source": [
    "6. En un dado de 6 caras. ¿Cuál es la probabilidad de que en 6 tiradas, todos los resultados sean únicos? (En cada tirada un número diferente)"
   ]
  },
  {
   "cell_type": "code",
   "execution_count": 17,
   "metadata": {},
   "outputs": [
    {
     "name": "stdout",
     "output_type": "stream",
     "text": [
      "La probabilidad de que en 6 tiradas todos los resultados sean únicos es 0.015573333333333333\n"
     ]
    }
   ],
   "source": [
    "import numpy as np\n",
    "\n",
    "# Usando una simulación de montecarlo\n",
    "# simulamos 100000 veces el lanzamiento de 6 dados y contamos cuántas veces en las 6 tiradas no se repite ningún número\n",
    "\n",
    "np.random.seed(6876)\n",
    "n_simulaciones = 900000\n",
    "no_repetidos = 0\n",
    "\n",
    "for i in range(n_simulaciones):\n",
    "    tiradas = np.random.choice(6, 6, replace=True) + 1\n",
    "    if len(set(tiradas)) == 6:\n",
    "        no_repetidos += 1\n",
    "\n",
    "probabilidad = no_repetidos / n_simulaciones\n",
    "print('La probabilidad de que en 6 tiradas todos los resultados sean únicos es', probabilidad)"
   ]
  },
  {
   "cell_type": "markdown",
   "metadata": {
    "vscode": {
     "languageId": "plaintext"
    }
   },
   "source": [
    "7. Un grupo de 60 estudiantes se separa en 3 clases del mismo tamaño. Jack y Jill son estudiantes de este grupo. ¿Cuál es la probabilidad de que les toque en la misma clase?"
   ]
  },
  {
   "cell_type": "code",
   "execution_count": 21,
   "metadata": {},
   "outputs": [
    {
     "name": "stdout",
     "output_type": "stream",
     "text": [
      "La probabilidad de que a Jack y Jill les toque en el mismo grupo de 20 personas es 0.3220338983050847\n"
     ]
    }
   ],
   "source": [
    "# el número de casos posibles posibles es el número de formas de acomodar a 60 personas en 3 grupos de 20 personas\n",
    "# que está dado por la fórmula C(60,20) * C(40,20) = 60! / (20! * (60-20)!) * 40! / (20! * (40-20)!)\n",
    "casos_20_60 = math.comb(60, 20)\n",
    "casos_20_40 = math.comb(40, 20)\n",
    "casos_posibles = casos_20_60 * casos_20_40\n",
    "# el número de casos favorables es el número de formas de acomodar a 58 personas en dos grupos de 20 y uno de 18, multiplicado por 3, porque hay 3 grupos\n",
    "# que está dado por la fórmula C(58,18) * C(40,20) = 58! / (18! * (58-18)!) * 40! / (20! * (40-20)!)\n",
    "casos_18_58 = math.comb(58, 18)\n",
    "casos_20_40 = math.comb(40, 20)\n",
    "casos_favorables = casos_18_58 * casos_20_40 *3\n",
    "# Por lo tanto la probabilidad de que a Jack y Jill les toque en el mismo grupo de 20 personas es\n",
    "casos_favorables / casos_posibles\n",
    "print('La probabilidad de que a Jack y Jill les toque en el mismo grupo de 20 personas es', casos_favorables / casos_posibles)"
   ]
  },
  {
   "cell_type": "markdown",
   "metadata": {},
   "source": [
    "8. Se tiene la moneda A y la moneda B. La moneda A tiene 1/2 de probabilidad de salir águila o sol en cada tirada. La probabilidad de sacar sol en la moneda B es 1/3. Si seleccionamos una moneda aleatóreamente y la tiramos hasta obtener sol. La probabilidad de seleccionar la moneda A es 1/4 y la probabilidad de seleccionar la moneda B es 3/4. ¿Cuál es el número esperado de veces que tiraremos la moneda para obtener sol?"
   ]
  },
  {
   "cell_type": "code",
   "execution_count": 25,
   "metadata": {},
   "outputs": [
    {
     "name": "stdout",
     "output_type": "stream",
     "text": [
      "el número esperado de veces que tiraremos la moneda para obtener sol es 2.75\n"
     ]
    }
   ],
   "source": [
    "# El número de veces esperado que se necesita tirar la moneda A para sacar sol es 2, porque la probabilidad de sacar sol es 1/2\n",
    "# El número de veces esperado que se necesita tirar la moneda B para sacar sol es 3, porque la probabilidad de sacar sol es 1/3\n",
    "# Hay que sumar estos valores ponderados por la probabilidad de tomar la moneda A (1/4) o la moneda B (3/4)\n",
    "num_esperado = 1/4 * float(2) + 3/4 * float(3)\n",
    "print('el número esperado de veces que tiraremos la moneda para obtener sol es', num_esperado)"
   ]
  },
  {
   "cell_type": "markdown",
   "metadata": {},
   "source": [
    "9. Una compañia de seguros vende seguro de vida que paga 240000.- pesos y la póliza es válida por 1 año. Le vende el seguro a una jóven de 25 años por 210 pesos. La probabilidad de que la cliente sobreviva el año es 0.999592 . ¿Cual es el valor esperado de esta póliza para la compañía de seguros?  "
   ]
  },
  {
   "cell_type": "code",
   "execution_count": 27,
   "metadata": {},
   "outputs": [
    {
     "name": "stdout",
     "output_type": "stream",
     "text": [
      "el valor esperado de la póliza es 97.91999999999135\n"
     ]
    }
   ],
   "source": [
    "# El valor esperado es la suma de los valores posibles ponderados por la probabilidad de que ocurran\n",
    "# entonces el valor esperado para la póliza es\n",
    "valor = 0.999592 * 0 + (1-0.999592) * 240000\n",
    "print('el valor esperado de la póliza es', valor)"
   ]
  },
  {
   "cell_type": "markdown",
   "metadata": {},
   "source": [
    "10. Una ruleta tiene 38 sitios. 18 son rojos, 18 son negros y 2 verdes. Si juegas 5 veces y siempre apuestas al rojo. ¿Cuántos juegos se puede esperar ganar?"
   ]
  },
  {
   "cell_type": "code",
   "execution_count": 28,
   "metadata": {},
   "outputs": [
    {
     "name": "stdout",
     "output_type": "stream",
     "text": [
      "espero ganar 2.3684210526315788 veces\n"
     ]
    }
   ],
   "source": [
    "# Apostando al rojo, la probabilidad de ganar es 18/38, si juegas 5 veces:\n",
    "ganar_esperado = 5 * 18/38\n",
    "print('espero ganar', ganar_esperado, 'veces')"
   ]
  },
  {
   "cell_type": "markdown",
   "metadata": {},
   "source": [
    "11. Una ruleta tiene 38 sitios. 18 son rojos, 18 son negros y 2 verdes. Si juegas 5 veces y siempre apuestas al rojo. ¿Cual es la probabilidad de ganar los 5 juegos?"
   ]
  },
  {
   "cell_type": "code",
   "execution_count": 30,
   "metadata": {},
   "outputs": [
    {
     "name": "stdout",
     "output_type": "stream",
     "text": [
      "la probabilidad de ganar 5 veces seguidas es 2.271718537909833e-07\n"
     ]
    }
   ],
   "source": [
    "# Nuevamente la probabilidad de ganar es 18/38, si juegas 5 veces:\n",
    "prob_ganar_5_veces = 18/38**5\n",
    "print('la probabilidad de ganar 5 veces seguidas es', prob_ganar_5_veces)"
   ]
  },
  {
   "cell_type": "markdown",
   "metadata": {},
   "source": [
    "12. Considera la siguiente densidad de probabilidad $\\frac{1}{8}e^{-x/8}$ para x>=0. ¿Cual es la probabilidad de X<=6?"
   ]
  },
  {
   "cell_type": "code",
   "execution_count": 36,
   "metadata": {},
   "outputs": [
    {
     "name": "stdout",
     "output_type": "stream",
     "text": [
      "Defaulting to user installation because normal site-packages is not writeable\n",
      "Requirement already satisfied: sympy in /Users/kiwi/Library/Python/3.9/lib/python/site-packages (1.13.2)\n",
      "Requirement already satisfied: mpmath<1.4,>=1.1.0 in /Users/kiwi/Library/Python/3.9/lib/python/site-packages (from sympy) (1.3.0)\n"
     ]
    }
   ],
   "source": [
    "!pip install sympy"
   ]
  },
  {
   "cell_type": "code",
   "execution_count": 37,
   "metadata": {},
   "outputs": [
    {
     "name": "stdout",
     "output_type": "stream",
     "text": [
      "La probabilidad de que X <= 6 es 0.527633447258985\n"
     ]
    }
   ],
   "source": [
    "# Seria la integral de 0 a 6 de la función de densidad de probabilidad\n",
    "from sympy import integrate, exp, symbols\n",
    "x = symbols('x')\n",
    "f = (1/8) * exp(-x/8)\n",
    "resultado = integrate(f, (x, 0, 6))\n",
    "print('La probabilidad de que X <= 6 es', resultado.evalf())"
   ]
  },
  {
   "cell_type": "markdown",
   "metadata": {},
   "source": [
    "13. ¿Cuál es la probabilidad de que estudiantes tengan su cumpleaños en el mismo día en una clase de 30 estudiantes?"
   ]
  },
  {
   "cell_type": "code",
   "execution_count": 58,
   "metadata": {
    "vscode": {
     "languageId": "shellscript"
    }
   },
   "outputs": [
    {
     "name": "stdout",
     "output_type": "stream",
     "text": [
      "La probabilidad de que al menos dos estudiantes tengan su cumpleaños el mismo día es 0.7063162427192688\n"
     ]
    }
   ],
   "source": [
    "# Podemos calcular la probabilidad de que (al menos dos) estudiantes compartan cumpleaños\n",
    "# calculando el complemento de la probabilidad de que todos los estudiantes tengan cumpleaños diferentes.\n",
    "# La probabilidad de que el estudiante 1 no comparta cumpleaños con otro es 1, porque no hay nadie más\n",
    "# La probabilidad de que el estudiante 2 no comparta cumpleaños con los anteriores (el 1 en este caso) es de 364/365\n",
    "# La probabilidad de que el estudiante 3 no comparta cumpleaños con los anteriores (el 1 y el 2 en este caso) es de 363/365\n",
    "# Siguiendo esta lógica construimos lo siguiente:\n",
    "\n",
    "#La probabilidad de que ningún estudiante comparta cumpleaños es la multiplicación de las probabilidades de que cada estudiante no comparta cumpleaños con los anteriores\n",
    "p_no_comparten = 1.0\n",
    "for i in range(30):\n",
    "    p_no_comparten *= (365 - i) / 365\n",
    "\n",
    "# El complemento de la probabilidad de que ningún estudiante comparta cumpleaños es la probabilidad de que al menos dos estudiantes compartan cumpleaños\n",
    "p_comparten = 1 - p_no_comparten\n",
    "\n",
    "print('La probabilidad de que al menos dos estudiantes tengan su cumpleaños el mismo día es', p_comparten)\n"
   ]
  },
  {
   "cell_type": "markdown",
   "metadata": {
    "vscode": {
     "languageId": "plaintext"
    }
   },
   "source": [
    "14. Si estás vendiendo sandwiches. Y el 70\\% de las personas elgien de huevo y el resto de pollo. ¿Cuál es la probabilidad de vender 2 sandwiches de huevo dentro de los 3 siguientes clientes?"
   ]
  },
  {
   "cell_type": "code",
   "execution_count": 45,
   "metadata": {
    "vscode": {
     "languageId": "shellscript"
    }
   },
   "outputs": [
    {
     "name": "stdout",
     "output_type": "stream",
     "text": [
      "la probabilidad de que se vendan dos sandwiches de huevo y uno de pollo es de:  0.44099999999999995\n"
     ]
    }
   ],
   "source": [
    "# Tenemos que contar cuántos casos favorables hay, o sea en cuantos casos vendemos dos sandwiches de huevo y uno de pollo:\n",
    "favorables = [('huevo', 'huevo', 'pollo'), ('huevo', 'pollo', 'huevo'), ('pollo', 'huevo', 'huevo')]\n",
    "# multiplicamos cada caso por la probabilidad de que ocurra dado que p(pollo) = 0.3 y p(huevo) = 0.7 lo sumamos\n",
    "P = 0.7*0.7*0.3 + 0.7*0.3*0.7 + 0.3*0.7*0.7\n",
    "print('la probabilidad de que se vendan dos sandwiches de huevo y uno de pollo es de: ', P)"
   ]
  },
  {
   "cell_type": "markdown",
   "metadata": {},
   "source": [
    "15. Un hostipal ha registrado que el 75\\% de pacientes sufriendo una enfermedad mueren debido a ella. ¿Cuál es la probabilidad de que 4 de 6 pacientes seleccionados al azar se recuperen?"
   ]
  },
  {
   "cell_type": "code",
   "execution_count": 49,
   "metadata": {
    "vscode": {
     "languageId": "shellscript"
    }
   },
   "outputs": [
    {
     "name": "stdout",
     "output_type": "stream",
     "text": [
      "La probabilidad de que 4 de 6 pacientes se recuperen es 0.03287125\n"
     ]
    }
   ],
   "source": [
    "#Haciendo una simulación de Montecarlo del problema:\n",
    "import numpy as np\n",
    "prob_recuperacion = 0.25\n",
    "n_sim = 800000\n",
    "recuperados = 0\n",
    "\n",
    "for i in range(n_sim):\n",
    "    pacientes = np.random.choice([0, 1], size=6, p=[0.75, 0.25])\n",
    "    if np.sum(pacientes) == 4:\n",
    "        recuperados += 1\n",
    "\n",
    "\n",
    "probabilidad = recuperados / n_sim\n",
    "print('La probabilidad de que 4 de 6 pacientes se recuperen es', probabilidad)\n"
   ]
  },
  {
   "cell_type": "markdown",
   "metadata": {},
   "source": [
    "16. En una clase se realizaron 2 exámenes. El 25\\% de los estudiantes aprobó los 2 exámenes. El 45 \\% aprobó el primer examen. ¿Que porcentaje aprobó el 2o examen?"
   ]
  },
  {
   "cell_type": "code",
   "execution_count": 51,
   "metadata": {
    "vscode": {
     "languageId": "shellscript"
    }
   },
   "outputs": [
    {
     "name": "stdout",
     "output_type": "stream",
     "text": [
      "El porcentaje de estudiantes que aprobaron el segundo examen es 55.55555555555556 %\n"
     ]
    }
   ],
   "source": [
    "# El conjunto de los estudiantes que aprobaron los dos exámenes contiene completamente al conjunto de los estudiantes que aprobaron el primer examen\n",
    "# Por lo tanto, la probabilidad de que un estudiante haya aprobado el segundo examen es la divisón de probabilidad de aprobar ambos exámenes \n",
    "# entre la probabilidad de aprobar el primer examen\n",
    "P_segundo = 0.25 / 0.45\n",
    "print('El porcentaje de estudiantes que aprobaron el segundo examen es', P_segundo * 100, '%')\n"
   ]
  },
  {
   "cell_type": "markdown",
   "metadata": {},
   "source": [
    "17. Jack tiene 2 monedas. Una normal (2 lados distintos) y otra que tiene \"sol\" por los 2 lados. Si no se da cuenta que moneda arrojó y cayó \"sol\". ¿Cual es la probabilidad de que la moneda que arrojó sea la que tiene \"sol\" por ambos lados?"
   ]
  },
  {
   "cell_type": "code",
   "execution_count": 54,
   "metadata": {},
   "outputs": [
    {
     "name": "stdout",
     "output_type": "stream",
     "text": [
      "La probabilidad de que la moneda que arrojó sea la que tiene \"sol\" por ambos lados es 0.6666666666666666\n"
     ]
    }
   ],
   "source": [
    "# Definimos los eventos:\n",
    "# A: La moneda arrojada es la que tiene \"sol\" por los dos lados\n",
    "# B: La moneda arrojada es la normal\n",
    "# S: El resultado de la tirada es \"sol\"\n",
    "# P(A) = 1/2\n",
    "# P(B) = 1/2\n",
    "# P(S|A) = 1\n",
    "# P(S|B) = 1/2\n",
    "\n",
    "# La probabilidad total de S es:\n",
    "P_S = 1 * (1/2) + (1/2) * (1/2)\n",
    "# Usando la definición de probabilidad condicional para encontrar P(A|S):\n",
    "# P(A|S) = P(S|A)P(A) / P(S)\n",
    "P_A_dado_S = (1 * (1/2)) / P_S\n",
    "\n",
    "print('La probabilidad de que la moneda que arrojó sea la que tiene \"sol\" por ambos lados es', P_A_dado_S)"
   ]
  },
  {
   "cell_type": "markdown",
   "metadata": {},
   "source": [
    "18. La probabilidad de tener cierta enfermedad en una población es de 0.00148. La prueba de laboratorio para dicha enfermedad tiene una tasa de 93\\% de verdaderos positivos (sale positiva cuando realmente se tiene la enfermedad el 93 \\% de las veces). Y su tasa de verdaderos negativos es de 99 \\% (Sale negativa cuando no se tiene la enfermedad el 99 \\% de las veces). ¿Cuál es la probabilidad de tener la enfermedad dado que la prueba salió positiva? Nota: Recordar el teorema de Bayes P(A | B)P(B) = P(B|A)P(A)"
   ]
  },
  {
   "cell_type": "code",
   "execution_count": 56,
   "metadata": {},
   "outputs": [
    {
     "name": "stdout",
     "output_type": "stream",
     "text": [
      "La probabilidad de tener la enfermedad dado que la prueba salió positiva es 0.12114490916772287\n"
     ]
    }
   ],
   "source": [
    "# Usemos el teorema de Bayes para encontrar P(A|B):\n",
    "# P(A|B) = P(B|A)P(A) / P(B)\n",
    "# P(B|A) = 0.93 Probabilidad de que la prueba salga positiva dado que se tiene la enfermedad\n",
    "# P(A) = 0.00148   Probabilidad de tener la enfermedad\n",
    "# P(B|-A)= 1 - 0.99  Probabilidad de que la prueba salga positiva dado que no se tiene la enfermedad\n",
    "# P(-A) = 1 - P_A  # Probabilidad de no tener la enfermedad\n",
    "\n",
    "# La probabilidad total de B (prueba positiva) es:\n",
    "# P(B) = P(B|A)P(A) + P(B|-A)P(-A)\n",
    "P_B = 0.93 * 0.00148 + 0.01 * (1 - 0.00148)\n",
    "\n",
    "# Usando la definición de probabilidad condicional para encontrar P(A|B):\n",
    "# P(A|B) = P(B|A)P(A) / P(B)\n",
    "P_A_dado_B = (0.93 * 0.00148) / P_B\n",
    "\n",
    "print('La probabilidad de tener la enfermedad dado que la prueba salió positiva es', P_A_dado_B)\n",
    "\n"
   ]
  },
  {
   "cell_type": "markdown",
   "metadata": {},
   "source": [
    "19. Haz un código que escriba letras y el espacio con la misma frecuencia con que aparecen en el cuento de Alicia en el País de las Maravillas : https://github.com/andergd/separadorSilabas/blob/master/Carroll%2C%20Lewis%20-%20Alicia%20En%20El%20Pa%C3%ADs%20De%20Las%20Maravillas.txt"
   ]
  },
  {
   "cell_type": "code",
   "execution_count": 1,
   "metadata": {},
   "outputs": [
    {
     "name": "stdout",
     "output_type": "stream",
     "text": [
      "--2024-09-13 23:37:25--  https://raw.githubusercontent.com/andergd/separadorSilabas/master/Carroll%2C%20Lewis%20-%20Alicia%20En%20El%20Pa%C3%ADs%20De%20Las%20Maravillas.txt\n",
      "Resolving raw.githubusercontent.com (raw.githubusercontent.com)... 2606:50c0:8001::154, 2606:50c0:8003::154, 2606:50c0:8002::154, ...\n",
      "Connecting to raw.githubusercontent.com (raw.githubusercontent.com)|2606:50c0:8001::154|:443... connected.\n",
      "HTTP request sent, awaiting response... 200 OK\n",
      "Length: 160570 (157K) [application/octet-stream]\n",
      "Saving to: ‘Carroll, Lewis - Alicia En El País De Las Maravillas.txt.7’\n",
      "\n",
      "Carroll, Lewis - Al 100%[===================>] 156.81K   116KB/s    in 1.4s    \n",
      "\n",
      "2024-09-13 23:37:27 (116 KB/s) - ‘Carroll, Lewis - Alicia En El País De Las Maravillas.txt.7’ saved [160570/160570]\n",
      "\n"
     ]
    }
   ],
   "source": [
    "!wget 'https://raw.githubusercontent.com/andergd/separadorSilabas/master/Carroll%2C%20Lewis%20-%20Alicia%20En%20El%20Pa%C3%ADs%20De%20Las%20Maravillas.txt'\n",
    "\n",
    "with open('Carroll, Lewis - Alicia En El País De Las Maravillas.txt', 'r', encoding='utf-8') as f:\n",
    "    texto = f.read()"
   ]
  },
  {
   "cell_type": "code",
   "execution_count": 3,
   "metadata": {},
   "outputs": [
    {
     "name": "stdout",
     "output_type": "stream",
     "text": [
      "acAereoeseeeccas oitoohcngtata ayhue a sCxeadltorrd sc ge ljclcrdsdedlse iee a gnleieanaiEtml ynfeagiildasVeq rdtroptBdisiiigoer cu eauc r nosealiirs \n"
     ]
    }
   ],
   "source": [
    "import string\n",
    "import random\n",
    "\n",
    "# hacemos dos listas, una con los caracteres unicos del texto y otra con su frecuencia normalizada\n",
    "caracteres_unicos = list(set(texto))\n",
    "caracteres_unicos_filtrados = [c for c in caracteres_unicos if c in string.ascii_letters or c == ' ']\n",
    "frecuencia_caracteres_lista = [texto.count(c) for c in caracteres_unicos_filtrados]\n",
    "frecuencia_caracteres_normalizada_lista = [f / len(texto) for f in frecuencia_caracteres_lista]\n",
    "\n",
    "# de esas listas muestramos caracteres aleatorios y vemos el resultado como string\n",
    "def muestra(caracteres, frecuencias, k=1):\n",
    "    return random.choices(caracteres, weights=frecuencias, k=k)\n",
    "\n",
    "def concatenar(char_list):\n",
    "    resultado = \"\"\n",
    "    for char in char_list:\n",
    "        resultado += char\n",
    "    return resultado\n",
    "# un ejemplo con 150 caracteres\n",
    "muestra_1 = muestra(caracteres_unicos_filtrados, frecuencia_caracteres_lista, k=150)\n",
    "cadena_1 = concatenar(muestra_1)\n",
    "print(cadena_1)"
   ]
  }
 ],
 "metadata": {
  "kernelspec": {
   "display_name": "Python 3",
   "language": "python",
   "name": "python3"
  },
  "language_info": {
   "codemirror_mode": {
    "name": "ipython",
    "version": 3
   },
   "file_extension": ".py",
   "mimetype": "text/x-python",
   "name": "python",
   "nbconvert_exporter": "python",
   "pygments_lexer": "ipython3",
   "version": "3.9.6"
  }
 },
 "nbformat": 4,
 "nbformat_minor": 2
}
